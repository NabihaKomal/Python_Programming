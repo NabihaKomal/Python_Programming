{
 "cells": [
  {
   "cell_type": "markdown",
   "metadata": {},
   "source": [
    "# Dictionary in a Dictionary"
   ]
  },
  {
   "cell_type": "code",
   "execution_count": 1,
   "metadata": {},
   "outputs": [
    {
     "name": "stdout",
     "output_type": "stream",
     "text": [
      "{'nabiha': {'first': 'nabiha', 'last': 'komal', 'location': 'layyah'}, 'omara': {'first': 'omara', 'last': 'sohail', 'location': 'lahore'}, 'ali': {'first': 'ali', 'last': 'javaid', 'location': 'multan'}}\n"
     ]
    }
   ],
   "source": [
    "users = {\n",
    "    #key : value\n",
    "    \"nabiha\" : {\n",
    "        # key : value\n",
    "        'first': 'nabiha',\n",
    "        'last': 'komal',\n",
    "        'location': 'layyah',\n",
    "    },\n",
    "    \"omara\" : {\n",
    "        'first': 'omara',\n",
    "        'last': 'sohail',\n",
    "        'location': 'lahore',\n",
    "        \n",
    "    },\n",
    "    \"ali\" : {\n",
    "        'first': 'ali',\n",
    "        'last': 'javaid',\n",
    "        'location': 'multan',\n",
    "        \n",
    "    }\n",
    "}\n",
    "\n",
    "print(users)"
   ]
  },
  {
   "cell_type": "markdown",
   "metadata": {},
   "source": [
    "## How to get information out of a dictionary within another dictionary"
   ]
  },
  {
   "cell_type": "code",
   "execution_count": 2,
   "metadata": {},
   "outputs": [
    {
     "name": "stdout",
     "output_type": "stream",
     "text": [
      "lahore\n"
     ]
    }
   ],
   "source": [
    "print(users[\"omara\"][\"location\"])"
   ]
  },
  {
   "cell_type": "code",
   "execution_count": 5,
   "metadata": {},
   "outputs": [
    {
     "name": "stdout",
     "output_type": "stream",
     "text": [
      "\n",
      "User Name :nabiha\n",
      "\t Full Name: Nabiha Komal\n",
      "\t Location: layyah\n",
      "\n",
      "User Name :omara\n",
      "\t Full Name: Omara Sohail\n",
      "\t Location: lahore\n",
      "\n",
      "User Name :ali\n",
      "\t Full Name: Ali Javaid\n",
      "\t Location: multan\n"
     ]
    }
   ],
   "source": [
    "for username,user_info in users.items():\n",
    "    print(\"\\nUser Name :\" + username)\n",
    "    full_name = user_info['first'] + \" \" + user_info['last']\n",
    "    location = user_info['location']\n",
    "    \n",
    "    print(\"\\t Full Name: \" + full_name.title())\n",
    "    print(\"\\t Location: \" + location)"
   ]
  },
  {
   "cell_type": "markdown",
   "metadata": {},
   "source": [
    "# Function"
   ]
  },
  {
   "cell_type": "markdown",
   "metadata": {},
   "source": [
    "## defining a function"
   ]
  },
  {
   "cell_type": "code",
   "execution_count": 8,
   "metadata": {},
   "outputs": [
    {
     "name": "stdout",
     "output_type": "stream",
     "text": [
      "Hello User!\n",
      "Hello User!\n",
      "Hello User!\n",
      "Hello User!\n"
     ]
    }
   ],
   "source": [
    "def greet_user(): #function definition\n",
    "    print(\"Hello User!\")\n",
    "    \n",
    "# Function Call\n",
    "greet_user()\n",
    "greet_user()\n",
    "greet_user()\n",
    "greet_user()"
   ]
  },
  {
   "cell_type": "code",
   "execution_count": 11,
   "metadata": {},
   "outputs": [
    {
     "name": "stdout",
     "output_type": "stream",
     "text": [
      "enter your name: Nabiha\n",
      "hello Nabiha\n",
      "hello AHmad\n"
     ]
    }
   ],
   "source": [
    "name = input(\"enter your name: \")\n",
    "\n",
    "def greet_user(username): #parameter\n",
    "    print(\"hello \" + username)\n",
    "    \n",
    "    \n",
    "greet_user(name) # Argument\n",
    "greet_user(\"AHmad\")"
   ]
  },
  {
   "cell_type": "markdown",
   "metadata": {},
   "source": [
    "## Passing Arguments\n",
    "* Positional arguments\n",
    "* keyword arguments"
   ]
  },
  {
   "cell_type": "markdown",
   "metadata": {},
   "source": [
    "## Positional Arguments"
   ]
  },
  {
   "cell_type": "code",
   "execution_count": 16,
   "metadata": {},
   "outputs": [
    {
     "name": "stdout",
     "output_type": "stream",
     "text": [
      "\n",
      " I have a  Sheru\n",
      "My dog 's name is Sheru\n"
     ]
    }
   ],
   "source": [
    "def describe_pet(animal_type, pet_name):\n",
    "    \"\"\"Display information about pet\"\"\"\n",
    "    print(\"\\n I have a  \" + pet_name)\n",
    "    print(f\"My {animal_type} 's name is {pet_name}\")\n",
    "    \n",
    "\n",
    "describe_pet('dog', 'Sheru')\n",
    "#describe_pet('Sheru', 'dog') Position matters in positional arguments"
   ]
  },
  {
   "cell_type": "code",
   "execution_count": 18,
   "metadata": {},
   "outputs": [
    {
     "name": "stdout",
     "output_type": "stream",
     "text": [
      "Display information about pet\n",
      "Help on function describe_pet in module __main__:\n",
      "\n",
      "describe_pet(animal_type, pet_name)\n",
      "    Display information about pet\n",
      "\n"
     ]
    }
   ],
   "source": [
    "# __doc__\n",
    "print(describe_pet.__doc__)\n",
    "\n",
    "# help()\n",
    "help(describe_pet)"
   ]
  },
  {
   "cell_type": "code",
   "execution_count": 19,
   "metadata": {},
   "outputs": [
    {
     "name": "stdout",
     "output_type": "stream",
     "text": [
      "Help on built-in function print in module builtins:\n",
      "\n",
      "print(...)\n",
      "    print(value, ..., sep=' ', end='\\n', file=sys.stdout, flush=False)\n",
      "    \n",
      "    Prints the values to a stream, or to sys.stdout by default.\n",
      "    Optional keyword arguments:\n",
      "    file:  a file-like object (stream); defaults to the current sys.stdout.\n",
      "    sep:   string inserted between values, default a space.\n",
      "    end:   string appended after the last value, default a newline.\n",
      "    flush: whether to forcibly flush the stream.\n",
      "\n"
     ]
    }
   ],
   "source": [
    "help(print)"
   ]
  },
  {
   "cell_type": "code",
   "execution_count": 22,
   "metadata": {},
   "outputs": [
    {
     "name": "stdout",
     "output_type": "stream",
     "text": [
      "5\n"
     ]
    }
   ],
   "source": [
    "def add_numbers():\n",
    "    first_number = 2\n",
    "    second_number = 3\n",
    "    total = first_number + second_number\n",
    "    print(total)\n",
    "    \n",
    "    \n",
    "add_numbers()"
   ]
  },
  {
   "cell_type": "markdown",
   "metadata": {},
   "source": [
    "## Keyword Argument"
   ]
  },
  {
   "cell_type": "code",
   "execution_count": 24,
   "metadata": {},
   "outputs": [
    {
     "name": "stdout",
     "output_type": "stream",
     "text": [
      "\n",
      " I have a  Sheru\n",
      "My dog 's name is Sheru\n"
     ]
    }
   ],
   "source": [
    "def describe_pet(animal_type, pet_name):\n",
    "    \"\"\"Display information about pet\"\"\"\n",
    "    print(\"\\n I have a  \" + pet_name)\n",
    "    print(f\"My {animal_type} 's name is {pet_name}\")\n",
    "    \n",
    "    \n",
    "describe_pet(pet_name=\"Sheru\",animal_type=\"dog\")"
   ]
  },
  {
   "cell_type": "markdown",
   "metadata": {},
   "source": [
    "## Functions: Assigning a default value to a parameter"
   ]
  },
  {
   "cell_type": "code",
   "execution_count": 26,
   "metadata": {},
   "outputs": [
    {
     "name": "stdout",
     "output_type": "stream",
     "text": [
      "80.0\n",
      "1500.0\n"
     ]
    }
   ],
   "source": [
    "def calc_tax(sales_total, tax_rate=.04):\n",
    "    print(sales_total * tax_rate)\n",
    "    \n",
    "calc_tax(2000)\n",
    "calc_tax(3000, 0.5)"
   ]
  },
  {
   "cell_type": "markdown",
   "metadata": {},
   "source": [
    "## Functions: Mixing positional and keyword arguments"
   ]
  },
  {
   "cell_type": "code",
   "execution_count": 27,
   "metadata": {},
   "outputs": [
    {
     "name": "stdout",
     "output_type": "stream",
     "text": [
      "Hello User! , nabiha\n"
     ]
    }
   ],
   "source": [
    "def give_greeting(greeting, first_name):\n",
    "    \"\"\"This function greets the user\"\"\"\n",
    "    print(greeting + \", \" + first_name)\n",
    "    \n",
    "give_greeting(\"Hello User! \" ,first_name='nabiha')"
   ]
  },
  {
   "cell_type": "code",
   "execution_count": 3,
   "metadata": {},
   "outputs": [
    {
     "name": "stdout",
     "output_type": "stream",
     "text": [
      "Hello There! , Nabiha good person\n"
     ]
    }
   ],
   "source": [
    "def give_greeting(greeting, first_name,flattering_nickname=\" the wonder person\"):\n",
    "    print(greeting + \", \" + first_name + flattering_nickname)\n",
    "    \n",
    "\n",
    "give_greeting(\"Hello There! \",first_name=\"Nabiha\", flattering_nickname=\" good person\")"
   ]
  },
  {
   "cell_type": "code",
   "execution_count": null,
   "metadata": {},
   "outputs": [],
   "source": [
    "users = {\n",
    "    #key : value\n",
    "    \"nabiha\" : {\n",
    "        # key : value\n",
    "        'first': 'nabiha',\n",
    "        'last': 'komal',\n",
    "        'location': 'layyah',\n",
    "    },\n",
    "    \"omara\" : {\n",
    "        'first': 'omara',\n",
    "        'last': 'sohail',\n",
    "        'location': 'lahore',\n",
    "        \n",
    "    },\n",
    "    \"ali\" : {\n",
    "        'first': 'ali',\n",
    "        'last': 'javaid',\n",
    "        'location': 'multan',\n",
    "        \n",
    "    }\n",
    "}"
   ]
  }
 ],
 "metadata": {
  "kernelspec": {
   "display_name": "Python 3",
   "language": "python",
   "name": "python3"
  },
  "language_info": {
   "codemirror_mode": {
    "name": "ipython",
    "version": 3
   },
   "file_extension": ".py",
   "mimetype": "text/x-python",
   "name": "python",
   "nbconvert_exporter": "python",
   "pygments_lexer": "ipython3",
   "version": "3.7.9"
  }
 },
 "nbformat": 4,
 "nbformat_minor": 2
}
