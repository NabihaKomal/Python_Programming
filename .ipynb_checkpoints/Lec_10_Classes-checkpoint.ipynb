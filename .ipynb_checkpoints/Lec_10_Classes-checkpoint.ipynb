{
 "cells": [
  {
   "cell_type": "markdown",
   "metadata": {},
   "source": [
    "# Classes in Python"
   ]
  },
  {
   "cell_type": "markdown",
   "metadata": {},
   "source": [
    "## Writing a Class\n",
    "Python uses a keyword \"Class\" to define a class\n",
    "Class Car():\n",
    "    #body of class"
   ]
  },
  {
   "cell_type": "markdown",
   "metadata": {},
   "source": [
    "## What Class Actually holds\n",
    "\n",
    "* A class may hold variables\n",
    "* A class may hold functions\n",
    "\n",
    "+ Example\n",
    "* A class car has color, model and seating capacity are 'attributes' of class\n",
    "* A car can run, stop, speed-up, speed-down are 'behaviours' of class car"
   ]
  },
  {
   "cell_type": "markdown",
   "metadata": {},
   "source": [
    "## Creating an instance of class\n",
    "\n",
    "class Car():\n",
    "    * Define body of class\n",
    "    * Define attributes and behaviours\n",
    "    \n",
    "Creating objects/instances of Car Class\n",
    "* car1 = Car()\n",
    "* car2 = Car()"
   ]
  },
  {
   "cell_type": "code",
   "execution_count": 2,
   "metadata": {},
   "outputs": [
    {
     "name": "stdout",
     "output_type": "stream",
     "text": [
      "<__main__.Employees object at 0x000001CD7AA072C8>\n",
      "<__main__.Employees object at 0x000001CD7AA07288>\n"
     ]
    }
   ],
   "source": [
    "# We can leave the class empty but it will give an error to get rid of that we can write 'pass' in the class\n",
    "class Employees():\n",
    "    pass\n",
    "\n",
    "emp_1 = Employees()\n",
    "emp_2 = Employees()\n",
    "\n",
    "print(emp_1)\n",
    "print(emp_2)"
   ]
  },
  {
   "cell_type": "code",
   "execution_count": 11,
   "metadata": {},
   "outputs": [],
   "source": [
    "# define a class\n",
    "class Car():\n",
    "    # attributes >>> are variables \n",
    "    # behaviours >>> are functions\n",
    "    \n",
    "    # ATTRIBUTES\n",
    "    def __init__(self,make,model,year): # first parameter will always be 'self'\n",
    "        self.make = make\n",
    "        self.model = model\n",
    "        self.year = year\n",
    "        self.battery = \"200amp\" #default attribute\n",
    "    # BEHAVIOURS\n",
    "    def descriptionCar(self):\n",
    "        print(f\"\\nThe make of car {self.make}\")\n",
    "        print(f\"The model of car {self.model}\")\n",
    "        print(f\"The year of car {self.year}\")\n",
    "    \n",
    "    def move(self):\n",
    "        print(f\"\\n{self.make} is moving with speed\")\n",
    "    \n",
    "    def applyingBreak(self):\n",
    "        print(f\"\\n{self.model} is moving with speed\")"
   ]
  },
  {
   "cell_type": "code",
   "execution_count": 12,
   "metadata": {},
   "outputs": [
    {
     "name": "stdout",
     "output_type": "stream",
     "text": [
      "\n",
      "The make of car Honda\n",
      "The model of car Civic\n",
      "The year of car 2019\n",
      "\n",
      "The make of car Suzuki\n",
      "The model of car Cultus\n",
      "The year of car 2015\n",
      "\n",
      "Honda is moving with speed\n"
     ]
    }
   ],
   "source": [
    "# Objects\n",
    "car1 = Car(\"Honda\",\"Civic\",2019)\n",
    "car2 = Car(\"Suzuki\",\"Cultus\",2015)\n",
    "\n",
    "car1.descriptionCar()\n",
    "car2.descriptionCar()\n",
    "\n",
    "car1.move()"
   ]
  },
  {
   "cell_type": "code",
   "execution_count": null,
   "metadata": {},
   "outputs": [],
   "source": []
  }
 ],
 "metadata": {
  "kernelspec": {
   "display_name": "Python 3",
   "language": "python",
   "name": "python3"
  },
  "language_info": {
   "codemirror_mode": {
    "name": "ipython",
    "version": 3
   },
   "file_extension": ".py",
   "mimetype": "text/x-python",
   "name": "python",
   "nbconvert_exporter": "python",
   "pygments_lexer": "ipython3",
   "version": "3.7.9"
  }
 },
 "nbformat": 4,
 "nbformat_minor": 2
}
